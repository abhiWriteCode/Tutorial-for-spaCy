{
  "nbformat": 4,
  "nbformat_minor": 0,
  "metadata": {
    "colab": {
      "name": "notebook.ipynb",
      "version": "0.3.2",
      "provenance": [],
      "include_colab_link": true
    },
    "kernelspec": {
      "name": "python3",
      "display_name": "Python 3"
    }
  },
  "cells": [
    {
      "cell_type": "markdown",
      "metadata": {
        "id": "view-in-github",
        "colab_type": "text"
      },
      "source": [
        "<a href=\"https://colab.research.google.com/github/abhiWriteCode/Tutorial-for-spaCy/blob/master/notebook.ipynb\" target=\"_parent\"><img src=\"https://colab.research.google.com/assets/colab-badge.svg\" alt=\"Open In Colab\"/></a>"
      ]
    },
    {
      "metadata": {
        "id": "_PR8ZbfjimuV",
        "colab_type": "text"
      },
      "cell_type": "markdown",
      "source": [
        "# spaCy\n",
        "\n",
        "spaCy is a free, open-source library for advanced Natural\n",
        "Language Processing (NLP) in Python. It's designed\n",
        "specifically for production use and helps you build\n",
        "applications that process and \"understand\" large volumes\n",
        "of text. **Documentation**: [spacy.io](spacy.io)"
      ]
    },
    {
      "metadata": {
        "id": "lwvA2b5fmrHG",
        "colab_type": "text"
      },
      "cell_type": "markdown",
      "source": [
        "### Install and import"
      ]
    },
    {
      "metadata": {
        "id": "DK92kH_FiQrS",
        "colab_type": "code",
        "colab": {
          "base_uri": "https://localhost:8080/",
          "height": 84
        },
        "outputId": "f4d1f756-7edf-4182-8eca-f1d3828a1c46"
      },
      "cell_type": "code",
      "source": [
        "# To install\n",
        "!pip install spacy -q\n",
        "\n",
        "# imports\n",
        "import spacy"
      ],
      "execution_count": 1,
      "outputs": [
        {
          "output_type": "stream",
          "text": [
            "\u001b[K    100% |████████████████████████████████| 17.3MB 2.0MB/s \n",
            "\u001b[31mfeaturetools 0.4.1 has requirement pandas>=0.23.0, but you'll have pandas 0.22.0 which is incompatible.\u001b[0m\n",
            "\u001b[31mdatascience 0.10.6 has requirement folium==0.2.1, but you'll have folium 0.8.3 which is incompatible.\u001b[0m\n",
            "\u001b[31malbumentations 0.1.12 has requirement imgaug<0.2.7,>=0.2.5, but you'll have imgaug 0.2.8 which is incompatible.\u001b[0m\n",
            "\u001b[?25h"
          ],
          "name": "stdout"
        }
      ]
    },
    {
      "metadata": {
        "id": "7SWa-SPynCUv",
        "colab_type": "text"
      },
      "cell_type": "markdown",
      "source": [
        "## Statistical models"
      ]
    },
    {
      "metadata": {
        "id": "RJTsGXGcnI3f",
        "colab_type": "text"
      },
      "cell_type": "markdown",
      "source": [
        "### Download statistical models\n",
        "\n",
        "Predict part-of-speech tags, dependency labels, named\n",
        "entities and more. See here for available models:\n",
        "[spacy.io/models](spacy.io/models)"
      ]
    },
    {
      "metadata": {
        "id": "HJ6eHCcnmxNR",
        "colab_type": "code",
        "colab": {
          "base_uri": "https://localhost:8080/",
          "height": 170
        },
        "outputId": "8aa3b032-0181-4805-cc4c-9a97838f25f7"
      },
      "cell_type": "code",
      "source": [
        "!python -m spacy download en_core_web_sm"
      ],
      "execution_count": 2,
      "outputs": [
        {
          "output_type": "stream",
          "text": [
            "Requirement already satisfied: en_core_web_sm==2.0.0 from https://github.com/explosion/spacy-models/releases/download/en_core_web_sm-2.0.0/en_core_web_sm-2.0.0.tar.gz#egg=en_core_web_sm==2.0.0 in /usr/local/lib/python3.6/dist-packages (2.0.0)\n",
            "\n",
            "\u001b[93m    Linking successful\u001b[0m\n",
            "    /usr/local/lib/python3.6/dist-packages/en_core_web_sm -->\n",
            "    /usr/local/lib/python3.6/dist-packages/spacy/data/en_core_web_sm\n",
            "\n",
            "    You can now load the model via spacy.load('en_core_web_sm')\n",
            "\n"
          ],
          "name": "stdout"
        }
      ]
    },
    {
      "metadata": {
        "id": "OprFeS7KnlJu",
        "colab_type": "text"
      },
      "cell_type": "markdown",
      "source": [
        "### Check that your installed models are up to date"
      ]
    },
    {
      "metadata": {
        "id": "BWlcSR3UnfiQ",
        "colab_type": "code",
        "colab": {
          "base_uri": "https://localhost:8080/",
          "height": 150
        },
        "outputId": "9485b7bb-f4f2-4f55-8530-87b55b6fb7ca"
      },
      "cell_type": "code",
      "source": [
        "!python -m spacy validate"
      ],
      "execution_count": 3,
      "outputs": [
        {
          "output_type": "stream",
          "text": [
            "\n",
            "\u001b[93m    Installed models (spaCy v2.0.18)\u001b[0m\n",
            "    /usr/local/lib/python3.6/dist-packages/spacy\n",
            "\n",
            "    TYPE        NAME                  MODEL                 VERSION                                   \n",
            "    package     en-core-web-sm        en_core_web_sm        \u001b[38;5;2m2.0.0\u001b[0m    \u001b[38;5;2m✔\u001b[0m      \n",
            "    link        en                    en_core_web_sm        \u001b[38;5;2m2.0.0\u001b[0m    \u001b[38;5;2m✔\u001b[0m      \n",
            "    link        en_core_web_sm        en_core_web_sm        \u001b[38;5;2m2.0.0\u001b[0m    \u001b[38;5;2m✔\u001b[0m      \n"
          ],
          "name": "stdout"
        }
      ]
    },
    {
      "metadata": {
        "id": "Cti5GYk2nrt3",
        "colab_type": "text"
      },
      "cell_type": "markdown",
      "source": [
        "### Loading statistical models"
      ]
    },
    {
      "metadata": {
        "id": "JWfw7aGhnpV5",
        "colab_type": "code",
        "colab": {}
      },
      "cell_type": "code",
      "source": [
        "import spacy\n",
        "\n",
        "# Load the installed model \"en_core_web_sm\"\n",
        "nlp = spacy.load(\"en_core_web_sm\")"
      ],
      "execution_count": 0,
      "outputs": []
    },
    {
      "metadata": {
        "id": "TaFR4z15n7s_",
        "colab_type": "text"
      },
      "cell_type": "markdown",
      "source": [
        "## Documents and tokens"
      ]
    },
    {
      "metadata": {
        "id": "13d1M0qFoBeP",
        "colab_type": "text"
      },
      "cell_type": "markdown",
      "source": [
        "### Processing text\n",
        "\n",
        "Processing text with the nlp object returns a Doc object\n",
        "that holds all information about the tokens, their linguistic\n",
        "features and their relationships"
      ]
    },
    {
      "metadata": {
        "id": "Bua2YGtfoONP",
        "colab_type": "text"
      },
      "cell_type": "markdown",
      "source": [
        "### Accessing token attributes"
      ]
    },
    {
      "metadata": {
        "id": "ZhfogAXDoNfG",
        "colab_type": "code",
        "colab": {
          "base_uri": "https://localhost:8080/",
          "height": 33
        },
        "outputId": "6bbaca3e-9a8a-4942-cbe0-d36212c0b600"
      },
      "cell_type": "code",
      "source": [
        "doc = nlp(\"This is a text\")\n",
        "\n",
        "# Token texts\n",
        "[token.text for token in doc]"
      ],
      "execution_count": 5,
      "outputs": [
        {
          "output_type": "execute_result",
          "data": {
            "text/plain": [
              "['This', 'is', 'a', 'text']"
            ]
          },
          "metadata": {
            "tags": []
          },
          "execution_count": 5
        }
      ]
    },
    {
      "metadata": {
        "id": "p0sxWKbuomHg",
        "colab_type": "text"
      },
      "cell_type": "markdown",
      "source": [
        "## Spans"
      ]
    },
    {
      "metadata": {
        "id": "ODffhijPonlY",
        "colab_type": "text"
      },
      "cell_type": "markdown",
      "source": [
        "### Accessing spans\n",
        "\n",
        "Span indices are **exclusive**. So `doc[2:4]` is a span starting at\n",
        "token 2, up to – but not including! – token 4."
      ]
    },
    {
      "metadata": {
        "id": "hiH8TIAAoej4",
        "colab_type": "code",
        "colab": {
          "base_uri": "https://localhost:8080/",
          "height": 33
        },
        "outputId": "e35022f2-d90b-4b38-bb4f-febe4b796d73"
      },
      "cell_type": "code",
      "source": [
        "doc = nlp(\"This is a text\")\n",
        "span = doc[2:4]\n",
        "span.text"
      ],
      "execution_count": 6,
      "outputs": [
        {
          "output_type": "execute_result",
          "data": {
            "text/plain": [
              "'a text'"
            ]
          },
          "metadata": {
            "tags": []
          },
          "execution_count": 6
        }
      ]
    },
    {
      "metadata": {
        "id": "oDSCPlVeshfB",
        "colab_type": "text"
      },
      "cell_type": "markdown",
      "source": [
        "## Linguistic features\n",
        "\n",
        "Attributes return label IDs. For string labels, use the\n",
        "attributes with an underscore. For example, `token.pos_` ."
      ]
    },
    {
      "metadata": {
        "id": "seIIMFfssvyh",
        "colab_type": "text"
      },
      "cell_type": "markdown",
      "source": [
        "### Part-of-speech tags \n",
        "\n",
        "*PREDICTED BY STATISTICAL MODEL*"
      ]
    },
    {
      "metadata": {
        "id": "ZFgBm5tEq3UV",
        "colab_type": "code",
        "colab": {
          "base_uri": "https://localhost:8080/",
          "height": 50
        },
        "outputId": "eb34a967-3544-477c-c6e6-a300438b572d"
      },
      "cell_type": "code",
      "source": [
        "doc = nlp(\"This is a text.\")\n",
        "\n",
        "# Coarse-grained part-of-speech tags\n",
        "print([token.pos_ for token in doc])\n",
        "\n",
        "# Fine-grained part-of-speech tags\n",
        "print([token.tag_ for token in doc])"
      ],
      "execution_count": 9,
      "outputs": [
        {
          "output_type": "stream",
          "text": [
            "['DET', 'VERB', 'DET', 'NOUN', 'PUNCT']\n",
            "['DT', 'VBZ', 'DT', 'NN', '.']\n"
          ],
          "name": "stdout"
        }
      ]
    },
    {
      "metadata": {
        "id": "DRqmg4e6tL57",
        "colab_type": "text"
      },
      "cell_type": "markdown",
      "source": [
        "### Syntactic dependencies\n",
        "\n",
        "*PREDICTED BY STATISTICAL MODEL*"
      ]
    },
    {
      "metadata": {
        "id": "9YXtLwCatGCZ",
        "colab_type": "code",
        "colab": {
          "base_uri": "https://localhost:8080/",
          "height": 50
        },
        "outputId": "591c6771-8b8e-4ac9-eec9-cd3c8ebd37c2"
      },
      "cell_type": "code",
      "source": [
        "doc = nlp(\"This is a text.\")\n",
        "\n",
        "# Dependency labels\n",
        "print([token.dep_ for token in doc])\n",
        "\n",
        "# Syntactic head token (governor)\n",
        "print([token.head.text for token in doc])"
      ],
      "execution_count": 11,
      "outputs": [
        {
          "output_type": "stream",
          "text": [
            "['nsubj', 'ROOT', 'det', 'attr', 'punct']\n",
            "['is', 'is', 'text', 'is', 'is']\n"
          ],
          "name": "stdout"
        }
      ]
    },
    {
      "metadata": {
        "id": "K52ncNJdtdwa",
        "colab_type": "text"
      },
      "cell_type": "markdown",
      "source": [
        "### Named entities\n",
        "\n",
        "*PREDICTED BY STATISTICAL MODEL*"
      ]
    },
    {
      "metadata": {
        "id": "3U3TlJRctUcY",
        "colab_type": "code",
        "colab": {
          "base_uri": "https://localhost:8080/",
          "height": 33
        },
        "outputId": "0a2d270e-a0dc-483a-8d20-e2a10108229c"
      },
      "cell_type": "code",
      "source": [
        "doc = nlp(\"Larry Page founded Google\")\n",
        "\n",
        "# Text and label of named entity span\n",
        "print([(ent.text, ent.label_) for ent in doc.ents])"
      ],
      "execution_count": 12,
      "outputs": [
        {
          "output_type": "stream",
          "text": [
            "[('Larry Page', 'PERSON'), ('Google', 'ORG')]\n"
          ],
          "name": "stdout"
        }
      ]
    },
    {
      "metadata": {
        "id": "ZhfJAhWDtsjB",
        "colab_type": "text"
      },
      "cell_type": "markdown",
      "source": [
        "## Syntax iterators"
      ]
    },
    {
      "metadata": {
        "id": "IINchRjhtvqM",
        "colab_type": "text"
      },
      "cell_type": "markdown",
      "source": [
        "### Sentences \n",
        "\n",
        "*USUALLY NEEDS THE DEPENDENCY PARSER*"
      ]
    },
    {
      "metadata": {
        "id": "HQdGgAH-towt",
        "colab_type": "code",
        "colab": {
          "base_uri": "https://localhost:8080/",
          "height": 33
        },
        "outputId": "b02afdc0-b1ea-49d2-8917-134169533529"
      },
      "cell_type": "code",
      "source": [
        "doc = nlp(\"This a sentence. This is another one.\")\n",
        "# doc.sents is a generator that yields sentence spans\n",
        "print([sent.text for sent in doc.sents])"
      ],
      "execution_count": 13,
      "outputs": [
        {
          "output_type": "stream",
          "text": [
            "['This a sentence.', 'This is another one.']\n"
          ],
          "name": "stdout"
        }
      ]
    },
    {
      "metadata": {
        "id": "8s7uivXrt8WB",
        "colab_type": "text"
      },
      "cell_type": "markdown",
      "source": [
        "### Base noun phrases \n",
        "*NEEDS THE TAGGER AND PARSER*"
      ]
    },
    {
      "metadata": {
        "id": "Y9ma5ug7t512",
        "colab_type": "code",
        "colab": {
          "base_uri": "https://localhost:8080/",
          "height": 33
        },
        "outputId": "c90a5fc5-49be-44ca-9569-4d6e07381f51"
      },
      "cell_type": "code",
      "source": [
        "doc = nlp(\"I have a red car\")\n",
        "\n",
        "# doc.noun_chunks is a generator that yields spans\n",
        "print([chunk.text for chunk in doc.noun_chunks])"
      ],
      "execution_count": 14,
      "outputs": [
        {
          "output_type": "stream",
          "text": [
            "['I', 'a red car']\n"
          ],
          "name": "stdout"
        }
      ]
    },
    {
      "metadata": {
        "id": "1sneeeUpuJUx",
        "colab_type": "text"
      },
      "cell_type": "markdown",
      "source": [
        "## Label explanations"
      ]
    },
    {
      "metadata": {
        "id": "Zr6JckqUuECC",
        "colab_type": "code",
        "colab": {
          "base_uri": "https://localhost:8080/",
          "height": 50
        },
        "outputId": "541b6b8b-f61f-46f5-d370-f193f7384c66"
      },
      "cell_type": "code",
      "source": [
        "print(spacy.explain(\"RB\"))\n",
        "\n",
        "print(spacy.explain(\"GPE\"))"
      ],
      "execution_count": 15,
      "outputs": [
        {
          "output_type": "stream",
          "text": [
            "adverb\n",
            "Countries, cities, states\n"
          ],
          "name": "stdout"
        }
      ]
    },
    {
      "metadata": {
        "id": "tKpwU5-dufeE",
        "colab_type": "text"
      },
      "cell_type": "markdown",
      "source": [
        "## Visualizing\n",
        "\n",
        "If you're in a Jupyter notebook, use displacy.render .\n",
        "Otherwise, use displacy.serve to start a web server and\n",
        "show the visualization in your browser."
      ]
    },
    {
      "metadata": {
        "id": "rM5M3XaRvfJN",
        "colab_type": "code",
        "colab": {}
      },
      "cell_type": "code",
      "source": [
        "from IPython.display import display, SVG"
      ],
      "execution_count": 0,
      "outputs": []
    },
    {
      "metadata": {
        "id": "Mny7eUfZuTz6",
        "colab_type": "code",
        "colab": {}
      },
      "cell_type": "code",
      "source": [
        "from spacy import displacy"
      ],
      "execution_count": 0,
      "outputs": []
    },
    {
      "metadata": {
        "id": "QNuwWfSXvQPi",
        "colab_type": "text"
      },
      "cell_type": "markdown",
      "source": [
        "### Visualize dependencies"
      ]
    },
    {
      "metadata": {
        "id": "E2gb8Ih8uy0v",
        "colab_type": "code",
        "colab": {
          "base_uri": "https://localhost:8080/",
          "height": 332
        },
        "outputId": "ccdbe0ca-fdca-49de-bf61-ad8d5a0ab2a2"
      },
      "cell_type": "code",
      "source": [
        "doc = nlp(\"This is a sentence\")\n",
        "diagram = displacy.render(doc, style=\"dep\")\n",
        "\n",
        "display(SVG(diagram))"
      ],
      "execution_count": 26,
      "outputs": [
        {
          "output_type": "display_data",
          "data": {
            "text/plain": [
              "<IPython.core.display.SVG object>"
            ],
            "image/svg+xml": "<svg class=\"displacy\" height=\"312.0\" id=\"226-0\" style=\"max-width: none; height: 312.0px; color: #000000; background: #ffffff; font-family: Arial\" width=\"750\" xmlns=\"http://www.w3.org/2000/svg\" xmlns:xlink=\"http://www.w3.org/1999/xlink\">\n<text class=\"displacy-token\" fill=\"currentColor\" text-anchor=\"middle\" y=\"222.0\">\n    <tspan class=\"displacy-word\" fill=\"currentColor\" x=\"50\">This</tspan>\n    <tspan class=\"displacy-tag\" dy=\"2em\" fill=\"currentColor\" x=\"50\">DET</tspan>\n</text>\n\n<text class=\"displacy-token\" fill=\"currentColor\" text-anchor=\"middle\" y=\"222.0\">\n    <tspan class=\"displacy-word\" fill=\"currentColor\" x=\"225\">is</tspan>\n    <tspan class=\"displacy-tag\" dy=\"2em\" fill=\"currentColor\" x=\"225\">VERB</tspan>\n</text>\n\n<text class=\"displacy-token\" fill=\"currentColor\" text-anchor=\"middle\" y=\"222.0\">\n    <tspan class=\"displacy-word\" fill=\"currentColor\" x=\"400\">a</tspan>\n    <tspan class=\"displacy-tag\" dy=\"2em\" fill=\"currentColor\" x=\"400\">DET</tspan>\n</text>\n\n<text class=\"displacy-token\" fill=\"currentColor\" text-anchor=\"middle\" y=\"222.0\">\n    <tspan class=\"displacy-word\" fill=\"currentColor\" x=\"575\">sentence</tspan>\n    <tspan class=\"displacy-tag\" dy=\"2em\" fill=\"currentColor\" x=\"575\">NOUN</tspan>\n</text>\n\n<g class=\"displacy-arrow\">\n    <path class=\"displacy-arc\" d=\"M70,177.0 C70,89.5 220.0,89.5 220.0,177.0\" fill=\"none\" id=\"arrow-226-0-0\" stroke=\"currentColor\" stroke-width=\"2px\"/>\n    <text dy=\"1.25em\" style=\"font-size: 0.8em; letter-spacing: 1px\">\n        <textPath class=\"displacy-label\" fill=\"currentColor\" startOffset=\"50%\" text-anchor=\"middle\" xlink:href=\"#arrow-226-0-0\">nsubj</textPath>\n    </text>\n    <path class=\"displacy-arrowhead\" d=\"M70,179.0 L62,167.0 78,167.0\" fill=\"currentColor\"/>\n</g>\n\n<g class=\"displacy-arrow\">\n    <path class=\"displacy-arc\" d=\"M420,177.0 C420,89.5 570.0,89.5 570.0,177.0\" fill=\"none\" id=\"arrow-226-0-1\" stroke=\"currentColor\" stroke-width=\"2px\"/>\n    <text dy=\"1.25em\" style=\"font-size: 0.8em; letter-spacing: 1px\">\n        <textPath class=\"displacy-label\" fill=\"currentColor\" startOffset=\"50%\" text-anchor=\"middle\" xlink:href=\"#arrow-226-0-1\">det</textPath>\n    </text>\n    <path class=\"displacy-arrowhead\" d=\"M420,179.0 L412,167.0 428,167.0\" fill=\"currentColor\"/>\n</g>\n\n<g class=\"displacy-arrow\">\n    <path class=\"displacy-arc\" d=\"M245,177.0 C245,2.0 575.0,2.0 575.0,177.0\" fill=\"none\" id=\"arrow-226-0-2\" stroke=\"currentColor\" stroke-width=\"2px\"/>\n    <text dy=\"1.25em\" style=\"font-size: 0.8em; letter-spacing: 1px\">\n        <textPath class=\"displacy-label\" fill=\"currentColor\" startOffset=\"50%\" text-anchor=\"middle\" xlink:href=\"#arrow-226-0-2\">attr</textPath>\n    </text>\n    <path class=\"displacy-arrowhead\" d=\"M575.0,179.0 L583.0,167.0 567.0,167.0\" fill=\"currentColor\"/>\n</g>\n</svg>"
          },
          "metadata": {
            "tags": []
          }
        }
      ]
    },
    {
      "metadata": {
        "id": "UIcnttQCwRuL",
        "colab_type": "text"
      },
      "cell_type": "markdown",
      "source": [
        "### Visualize named entities"
      ]
    },
    {
      "metadata": {
        "id": "DauoglUBu9eJ",
        "colab_type": "code",
        "colab": {
          "base_uri": "https://localhost:8080/",
          "height": 52
        },
        "outputId": "937c4c5f-90d8-4ca1-c27f-0c1cbbd56951"
      },
      "cell_type": "code",
      "source": [
        "doc = nlp(\"Larry Page founded Google\")\n",
        "diagram = displacy.render(doc, style=\"ent\")\n",
        "\n",
        "display(SVG(diagram))"
      ],
      "execution_count": 27,
      "outputs": [
        {
          "output_type": "display_data",
          "data": {
            "text/plain": [
              "<IPython.core.display.SVG object>"
            ],
            "image/svg+xml": "<div class=\"entities\" style=\"line-height: 2.5\">\n<mark class=\"entity\" style=\"background: #aa9cfc; padding: 0.45em 0.6em; margin: 0 0.25em; line-height: 1; border-radius: 0.35em; box-decoration-break: clone; -webkit-box-decoration-break: clone\">\n    Larry Page\n    <span style=\"font-size: 0.8em; font-weight: bold; line-height: 1; border-radius: 0.35em; text-transform: uppercase; vertical-align: middle; margin-left: 0.5rem\">PERSON</span>\n</mark>\n founded \n<mark class=\"entity\" style=\"background: #7aecec; padding: 0.45em 0.6em; margin: 0 0.25em; line-height: 1; border-radius: 0.35em; box-decoration-break: clone; -webkit-box-decoration-break: clone\">\n    Google\n    <span style=\"font-size: 0.8em; font-weight: bold; line-height: 1; border-radius: 0.35em; text-transform: uppercase; vertical-align: middle; margin-left: 0.5rem\">ORG</span>\n</mark>\n</div>"
          },
          "metadata": {
            "tags": []
          }
        }
      ]
    },
    {
      "metadata": {
        "id": "0RrRlsXkwhQi",
        "colab_type": "text"
      },
      "cell_type": "markdown",
      "source": [
        "## Word vectors and similarity\n",
        "\n",
        "To use word vectors, you need to install the larger models\n",
        "ending in `md` or `lg` , for example `en_core_web_lg` ."
      ]
    },
    {
      "metadata": {
        "id": "1G3UsrHDwuns",
        "colab_type": "text"
      },
      "cell_type": "markdown",
      "source": [
        "### Comparing similarity"
      ]
    },
    {
      "metadata": {
        "id": "eaDfF4DQwb_9",
        "colab_type": "code",
        "colab": {
          "base_uri": "https://localhost:8080/",
          "height": 67
        },
        "outputId": "511b3210-9e60-4579-ffdf-81609c1c8a3f"
      },
      "cell_type": "code",
      "source": [
        "doc1 = nlp(\"I like cats\")\n",
        "doc2 = nlp(\"I like dogs\")\n",
        "\n",
        "# Compare 2 documents\n",
        "print(doc1.similarity(doc2))\n",
        "\n",
        "# Compare 2 tokens\n",
        "print(doc1[2].similarity(doc2[2]))\n",
        "\n",
        "# Compare tokens and spans\n",
        "print(doc1[0].similarity(doc2[1:3]))"
      ],
      "execution_count": 28,
      "outputs": [
        {
          "output_type": "stream",
          "text": [
            "0.9133257426978459\n",
            "0.7518883\n",
            "0.19759766442466106\n"
          ],
          "name": "stdout"
        }
      ]
    },
    {
      "metadata": {
        "id": "AK99hB5YxA5d",
        "colab_type": "text"
      },
      "cell_type": "markdown",
      "source": [
        "### Accessing word vectors"
      ]
    },
    {
      "metadata": {
        "id": "rKyUaqosw91b",
        "colab_type": "code",
        "colab": {
          "base_uri": "https://localhost:8080/",
          "height": 50
        },
        "outputId": "4a4a54df-b11e-41e0-b1aa-f89b2ddf5d19"
      },
      "cell_type": "code",
      "source": [
        "# Vector as a numpy array\n",
        "doc = nlp(\"I like cats\")\n",
        "\n",
        "print(doc[2].vector.shape)\n",
        "# The L2 norm of the token's vector\n",
        "print(doc[2].vector_norm)"
      ],
      "execution_count": 30,
      "outputs": [
        {
          "output_type": "stream",
          "text": [
            "(384,)\n",
            "24.809391\n"
          ],
          "name": "stdout"
        }
      ]
    },
    {
      "metadata": {
        "id": "932kzbNtxmuL",
        "colab_type": "text"
      },
      "cell_type": "markdown",
      "source": [
        "## Pipeline components\n",
        "\n",
        "Functions that take a `Doc` object, modify it and return it."
      ]
    },
    {
      "metadata": {
        "id": "EWrWMMKpzvpc",
        "colab_type": "text"
      },
      "cell_type": "markdown",
      "source": [
        "`Text` -->  | `tokenizer`,  `tagger`,  `parser`,  `ner`, ... | --> `Doc`\n"
      ]
    },
    {
      "metadata": {
        "id": "2kKcvZok2FQd",
        "colab_type": "text"
      },
      "cell_type": "markdown",
      "source": [
        "### Pipeline information"
      ]
    },
    {
      "metadata": {
        "id": "T5q0CxZWxLnm",
        "colab_type": "code",
        "colab": {
          "base_uri": "https://localhost:8080/",
          "height": 70
        },
        "outputId": "e817ce76-1ab2-43b4-fb92-6a9472498902"
      },
      "cell_type": "code",
      "source": [
        "nlp = spacy.load(\"en_core_web_sm\")\n",
        "print(nlp.pipe_names)\n",
        "\n",
        "print(nlp.pipeline)"
      ],
      "execution_count": 32,
      "outputs": [
        {
          "output_type": "stream",
          "text": [
            "['tagger', 'parser', 'ner']\n",
            "[('tagger', <spacy.pipeline.Tagger object at 0x7f7972874ef0>), ('parser', <spacy.pipeline.DependencyParser object at 0x7f79728cb150>), ('ner', <spacy.pipeline.EntityRecognizer object at 0x7f797282c4c0>)]\n"
          ],
          "name": "stdout"
        }
      ]
    },
    {
      "metadata": {
        "id": "eEsQltEr1_z9",
        "colab_type": "text"
      },
      "cell_type": "markdown",
      "source": [
        "### Custom components"
      ]
    },
    {
      "metadata": {
        "id": "Gq3f9Tad178Y",
        "colab_type": "code",
        "colab": {}
      },
      "cell_type": "code",
      "source": [
        "# Function that modifies the doc and returns it\n",
        "def custom_component(doc):\n",
        "    print(\"Do something to the doc here!\")\n",
        "    return doc\n",
        "\n",
        "# Add the component first in the pipeline\n",
        "nlp.add_pipe(custom_component, first=True)"
      ],
      "execution_count": 0,
      "outputs": []
    },
    {
      "metadata": {
        "id": "kfVdFMAc2THh",
        "colab_type": "text"
      },
      "cell_type": "markdown",
      "source": [
        "Components can be added `first` , `last` (default), or\n",
        " `before` or `after` an existing component."
      ]
    },
    {
      "metadata": {
        "id": "JVPX9SCU2fTv",
        "colab_type": "text"
      },
      "cell_type": "markdown",
      "source": [
        "## Extension attributes\n",
        "\n",
        "Custom attributes that are registered on the global `Doc` , `Token` and `Span` classes and become available as `.[link text](https://)_`"
      ]
    },
    {
      "metadata": {
        "id": "j6MGCYzR3paY",
        "colab_type": "code",
        "colab": {}
      },
      "cell_type": "code",
      "source": [
        "import os\n",
        "os._exit(00)"
      ],
      "execution_count": 0,
      "outputs": []
    },
    {
      "metadata": {
        "id": "HFCx6D3M2L35",
        "colab_type": "code",
        "colab": {}
      },
      "cell_type": "code",
      "source": [
        "from spacy.tokens import Doc, Token, Span\n",
        "import spacy\n",
        "nlp = spacy.load(\"en_core_web_sm\")\n",
        "\n",
        "doc = nlp(\"The sky over New York is blue\")"
      ],
      "execution_count": 0,
      "outputs": []
    },
    {
      "metadata": {
        "id": "uy3LCdza21J2",
        "colab_type": "text"
      },
      "cell_type": "markdown",
      "source": [
        "### Attribute extensions \n",
        "*WITH DEFAULT VALUE*"
      ]
    },
    {
      "metadata": {
        "id": "WVd8f1VY2zCt",
        "colab_type": "code",
        "colab": {}
      },
      "cell_type": "code",
      "source": [
        "# Register custom attribute on Token class\n",
        "Token.set_extension(\"is_color\", default=False)\n",
        "\n",
        "# Overwrite extension attribute with default value\n",
        "doc[6]._.is_color = True "
      ],
      "execution_count": 0,
      "outputs": []
    },
    {
      "metadata": {
        "id": "vwLslTfl3_a-",
        "colab_type": "text"
      },
      "cell_type": "markdown",
      "source": [
        "### Property extensions \n",
        "*WITH GETTER & SETTER*"
      ]
    },
    {
      "metadata": {
        "id": "92m2Ofdo374z",
        "colab_type": "code",
        "colab": {
          "base_uri": "https://localhost:8080/",
          "height": 33
        },
        "outputId": "976599f8-c931-43c0-df32-e427bcb02bad"
      },
      "cell_type": "code",
      "source": [
        "# Register custom attribute on Doc class\n",
        "get_reversed = lambda doc: doc.text[::-1]\n",
        "Doc.set_extension(\"reversed\", getter=get_reversed)\n",
        "\n",
        "# Compute value of extension attribute with getter\n",
        "doc._.reversed"
      ],
      "execution_count": 3,
      "outputs": [
        {
          "output_type": "execute_result",
          "data": {
            "text/plain": [
              "'eulb si kroY weN revo yks ehT'"
            ]
          },
          "metadata": {
            "tags": []
          },
          "execution_count": 3
        }
      ]
    },
    {
      "metadata": {
        "id": "PrQbcHfF4LsL",
        "colab_type": "text"
      },
      "cell_type": "markdown",
      "source": [
        "### Method extensions \n",
        "*CALLABLE METHOD*"
      ]
    },
    {
      "metadata": {
        "id": "0wFj-IWH4IlX",
        "colab_type": "code",
        "colab": {
          "base_uri": "https://localhost:8080/",
          "height": 33
        },
        "outputId": "8618c2d8-5f0e-4d37-f879-eb94fe647063"
      },
      "cell_type": "code",
      "source": [
        "# Register custom attribute on Span class\n",
        "has_label = lambda span, label: span.label_ == label\n",
        "Span.set_extension(\"has_label\", method=has_label)\n",
        "\n",
        "# Compute value of extension attribute with method\n",
        "doc[3:5]._.has_label(\"GPE\")"
      ],
      "execution_count": 5,
      "outputs": [
        {
          "output_type": "execute_result",
          "data": {
            "text/plain": [
              "False"
            ]
          },
          "metadata": {
            "tags": []
          },
          "execution_count": 5
        }
      ]
    },
    {
      "metadata": {
        "id": "HFDIZwnM6lUG",
        "colab_type": "text"
      },
      "cell_type": "markdown",
      "source": [
        "## Rule-based matching"
      ]
    },
    {
      "metadata": {
        "id": "ahLPazkD6pUg",
        "colab_type": "text"
      },
      "cell_type": "markdown",
      "source": [
        "### Using the matcher"
      ]
    },
    {
      "metadata": {
        "id": "lGJSyblV4TNC",
        "colab_type": "code",
        "colab": {
          "base_uri": "https://localhost:8080/",
          "height": 33
        },
        "outputId": "4ed7fcba-737e-4ed7-b3a0-b4ed44eb33fd"
      },
      "cell_type": "code",
      "source": [
        "# Matcher is initialized with the shared vocab\n",
        "from spacy.matcher import Matcher\n",
        "\n",
        "# Each dict represents one token and its attributes\n",
        "matcher = Matcher(nlp.vocab)\n",
        "\n",
        "# Add with ID, optional callback and pattern(s)\n",
        "pattern = [{\"LOWER\": \"new\"}, {\"LOWER\": \"york\"}]\n",
        "matcher.add(\"CITIES\", None, pattern)\n",
        "\n",
        "# Match by calling the matcher on a Doc object\n",
        "doc = nlp(\"I live in New York\")\n",
        "matches = matcher(doc)\n",
        "\n",
        "# Matches are (match_id, start, end) tuples\n",
        "for match_id, start, end in matches:\n",
        "    # Get the matched span by slicing the Doc\n",
        "    \n",
        "    span = doc[start:end]\n",
        "    print(span.text)"
      ],
      "execution_count": 6,
      "outputs": [
        {
          "output_type": "stream",
          "text": [
            "New York\n"
          ],
          "name": "stdout"
        }
      ]
    },
    {
      "metadata": {
        "id": "_6Hi4yKM69HQ",
        "colab_type": "text"
      },
      "cell_type": "markdown",
      "source": [
        "## Rule-based matching"
      ]
    },
    {
      "metadata": {
        "id": "gGwjg9fX7AH_",
        "colab_type": "text"
      },
      "cell_type": "markdown",
      "source": [
        "### Token patterns"
      ]
    },
    {
      "metadata": {
        "id": "dLJoLlTm64x7",
        "colab_type": "code",
        "colab": {}
      },
      "cell_type": "code",
      "source": [
        "# \"love cats\", \"loving cats\", \"loved cats\"\n",
        "pattern1 = [{\"LEMMA\": \"love\"}, {\"LOWER\": \"cats\"}]\n",
        "\n",
        "# \"10 people\", \"twenty people\"\n",
        "pattern2 = [{\"LIKE_NUM\": True}, {\"TEXT\": \"people\"}]\n",
        "\n",
        "# \"book\", \"a cat\", \"the sea\" (noun + optional article)\n",
        "pattern3 = [{\"POS\": \"DET\", \"OP\": \"?\"}, {\"POS\": \"NOUN\"}]"
      ],
      "execution_count": 0,
      "outputs": []
    },
    {
      "metadata": {
        "id": "h3MBbuft7Peo",
        "colab_type": "text"
      },
      "cell_type": "markdown",
      "source": [
        "### Operators and quantifiers"
      ]
    },
    {
      "metadata": {
        "id": "M3V1VLT57TAe",
        "colab_type": "text"
      },
      "cell_type": "markdown",
      "source": [
        "Can be added to a token dict as the `\"OP\"` key\n",
        "\n",
        "* `!` Negate pattern and match **exactly 0 times**.\n",
        "\n",
        "* `?` Make pattern optional and match **0 or 1 times**.\n",
        "\n",
        "* `+` Require pattern to match **1 or more times**.\n",
        "\n",
        "* `*` Allow pattern to match **0 or more times**. "
      ]
    },
    {
      "metadata": {
        "id": "g6vxU7wP731o",
        "colab_type": "text"
      },
      "cell_type": "markdown",
      "source": [
        "## Glossary\n",
        "\n",
        "\n",
        "|   |   |\n",
        "|---|---|\n",
        "| Tokenization  |  Segmenting text into words, punctuation etc |\n",
        "| Lemmatization  | Assigning the base forms of words, for example:\"was\" → \"be\" or \"rats\" → \"rat\". |\n",
        "|  Sentence Boundary Detection |  Finding and segmenting individual sentences |\n",
        "| Part-of-speech (POS) Tagging  | Assigning word types to tokens like verb or noun  |\n",
        "|  Dependency Parsing | Assigning syntactic dependency labels describing the relations between individual tokens, like subject or object.  |\n",
        "| Named Entity Recognition (NER)  | Labeling named \"real-world\" objects, like persons, companies or locations.  |\n",
        "| Text Classification  | Assigning categories or labels to a whole document, or parts of a document.  |\n",
        "| Statistical model  |  Process for making predictions based on examples |\n",
        "| Training  |  Updating a statistical model with new examples. |"
      ]
    },
    {
      "metadata": {
        "id": "XEi8kygi77_-",
        "colab_type": "code",
        "colab": {}
      },
      "cell_type": "code",
      "source": [
        ""
      ],
      "execution_count": 0,
      "outputs": []
    }
  ]
}